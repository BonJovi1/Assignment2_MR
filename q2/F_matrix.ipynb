{
 "cells": [
  {
   "cell_type": "code",
   "execution_count": 4,
   "metadata": {},
   "outputs": [],
   "source": [
    "import numpy as np\n",
    "from numpy import linalg as LA"
   ]
  },
  {
   "cell_type": "code",
   "execution_count": 5,
   "metadata": {},
   "outputs": [],
   "source": [
    "def F_matrix(image_coords_1, image_coords_2):\n",
    "    # image_coords_1: N*3 homogeneous coordinates of image pixels    \n",
    "    # image_coords_2: N*3 homogeneous coordinates of image pixels\n",
    "    \n",
    "    A = np.zeros((len(image_coords_1),9))\n",
    "    \n",
    "    # Getting the A matrix of size N*9\n",
    "    for i in range(len(image_coords_1)):\n",
    "        A[i,:] = np.kron(image_coords_2[i,:], image_coords_1[i,:])\n",
    "        \n",
    "    u, s, vh = np.linalg.svd(A, full_matrices=True)\n",
    "    \n",
    "    F = np.reshape(vh[9,:], (3,3))\n",
    "    \n",
    "    uf, sf, vhf = np.linalg.svd(F, full_matrices=True)\n",
    "    \n",
    "    F = uf @ np.diag(np.array([sf[0], sf[1], 0])) * vhf"
   ]
  }
 ],
 "metadata": {
  "kernelspec": {
   "display_name": "Python 3",
   "language": "python",
   "name": "python3"
  },
  "language_info": {
   "codemirror_mode": {
    "name": "ipython",
    "version": 3
   },
   "file_extension": ".py",
   "mimetype": "text/x-python",
   "name": "python",
   "nbconvert_exporter": "python",
   "pygments_lexer": "ipython3",
   "version": "3.7.3"
  }
 },
 "nbformat": 4,
 "nbformat_minor": 2
}
